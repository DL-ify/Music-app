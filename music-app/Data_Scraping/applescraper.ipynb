{
 "cells": [
  {
   "cell_type": "code",
   "execution_count": null,
   "metadata": {
    "colab": {},
    "colab_type": "code",
    "id": "qcyoALLOzB2I"
   },
   "outputs": [],
   "source": [
    "'''\n",
    "\n",
    "Manual AppleMusic Scraper\n",
    "\n",
    "'''"
   ]
  },
  {
   "cell_type": "code",
   "execution_count": null,
   "metadata": {
    "colab": {},
    "colab_type": "code",
    "id": "2YW-aElyzB2L"
   },
   "outputs": [],
   "source": [
    "from selenium import webdriver\n",
    "from selenium.webdriver.common.keys import Keys\n",
    "import time\n",
    "import datetime\n",
    "import json\n",
    "\n",
    "driver = webdriver.Chrome()\n",
    "driver.get(\"https://music.apple.com/\")"
   ]
  },
  {
   "cell_type": "markdown",
   "metadata": {
    "colab": {},
    "colab_type": "code",
    "id": "E7aAPHU3zB2O"
   },
   "source": [
    "### Sign in to Apple Music and navigate to required song class-name"
   ]
  },
  {
   "cell_type": "code",
   "execution_count": null,
   "metadata": {
    "colab": {},
    "colab_type": "code",
    "id": "XM2dQIlYzB2a"
   },
   "outputs": [],
   "source": [
    "songs_wrap = driver.find_elements_by_class_name(\"song-name\")\n",
    "songs = [x.text for x in song_wrap]\n",
    "\n",
    "song_subdiv = driver.find_elements_by_class_name(\"song-name-wrapper\")\n",
    "\n",
    "artists_wrap = [x.find_element_by_class_name(\"dt-link-to\") for x in song_subdiv]\n",
    "artists = [x.text for x in artists_wrap]"
   ]
  },
  {
   "cell_type": "code",
   "execution_count": null,
   "metadata": {
    "colab": {},
    "colab_type": "code",
    "id": "tGwLNWt_zB2c",
    "outputId": "1f1fa3cb-2c3b-4a42-9567-6acc06e2115b"
   },
   "outputs": [
    {
     "data": {
      "text/plain": [
       "50"
      ]
     },
     "execution_count": 128,
     "metadata": {
      "tags": []
     },
     "output_type": "execute_result"
    }
   ],
   "source": [
    "len(songs)"
   ]
  },
  {
   "cell_type": "code",
   "execution_count": null,
   "metadata": {
    "colab": {},
    "colab_type": "code",
    "id": "jnSVY7GKzB2e",
    "outputId": "25feb604-4d3f-4da4-d554-3822698f2fa4"
   },
   "outputs": [
    {
     "data": {
      "text/plain": [
       "50"
      ]
     },
     "execution_count": 129,
     "metadata": {
      "tags": []
     },
     "output_type": "execute_result"
    }
   ],
   "source": [
    "len(artists)"
   ]
  },
  {
   "cell_type": "code",
   "execution_count": null,
   "metadata": {
    "colab": {},
    "colab_type": "code",
    "id": "6ACVQz7RzB2q"
   },
   "outputs": [],
   "source": [
    "'''\n",
    "To combine song and artists lists into a single list of dictionaries\n",
    "'''\n",
    "l = []\n",
    "d = {}\n",
    "\n",
    "for x in range(0,99):\n",
    "    d[\"artist\"] = artists[x]\n",
    "    d[\"song\"] = songs[x]\n",
    "    l.append(d)\n",
    "    d = {}       "
   ]
  },
  {
   "cell_type": "code",
   "execution_count": null,
   "metadata": {
    "colab": {},
    "colab_type": "code",
    "id": "pqRXS1i3zB2s",
    "outputId": "b64fb8e6-a675-40a2-b8d5-e9f751503bf0",
    "slideshow": {
     "slide_type": "-"
    }
   },
   "outputs": [
    {
     "data": {
      "text/plain": [
       "[{'artist': 'Shania Twain',\n",
       "  'song': \"You're Still the One (International Mix)\"},\n",
       " {'artist': 'Fugees', 'song': 'Killing Me Softly With His Song'},\n",
       " {'artist': 'The Goo Goo Dolls', 'song': 'Iris'},\n",
       " {'artist': 'Savage Garden', 'song': 'Truly Madly Deeply'},\n",
       " {'artist': 'Robbie Williams', 'song': 'Angels'},\n",
       " {'artist': 'Spice Girls', 'song': '2 Become 1'},\n",
       " {'artist': 'Sixpence None the Richer', 'song': 'Kiss Me'},\n",
       " {'artist': 'Backstreet Boys', 'song': 'I Want It That Way'},\n",
       " {'artist': 'Gabrielle', 'song': 'Dreams'},\n",
       " {'artist': 'Boyzone', 'song': 'No Matter What'},\n",
       " {'artist': 'Lauryn Hill', 'song': \"Nothing Even Matters (feat. D'Angelo)\"},\n",
       " {'artist': 'Elton John', 'song': 'Can You Feel the Love Tonight'},\n",
       " {'artist': 'Bryan Adams', 'song': '(Everything I Do) I Do It for You'},\n",
       " {'artist': 'Céline Dion', 'song': 'The Power of Love'},\n",
       " {'artist': 'Faith Evans', 'song': 'Love Like This'},\n",
       " {'artist': 'Oasis', 'song': 'Wonderwall'},\n",
       " {'artist': 'Puff Daddy & Faith Evans', 'song': \"I'll Be Missing You\"},\n",
       " {'artist': 'Salt-N-Pepa', 'song': 'Whatta Man (feat. En Vogue)'},\n",
       " {'artist': '*NSYNC', 'song': 'God Must Have Spent a Little More Time On You'},\n",
       " {'artist': 'LeAnn Rimes', 'song': 'How Do I Live'},\n",
       " {'artist': 'Aaliyah', 'song': 'At Your Best (You Are Love)'},\n",
       " {'artist': 'Boyz II Men', 'song': \"I'll Make Love to You\"},\n",
       " {'artist': 'All-4-One', 'song': 'I Swear'},\n",
       " {'artist': 'Ricky Martin', 'song': \"She's All I Ever Had\"},\n",
       " {'artist': 'Red Hot Chili Peppers', 'song': 'Under the Bridge'},\n",
       " {'artist': 'K-Ci & JoJo', 'song': 'All My Life'},\n",
       " {'artist': 'Jewel', 'song': 'You Were Meant for Me'},\n",
       " {'artist': 'Bryan Adams', 'song': '(Everything I Do) I Do It for You'},\n",
       " {'artist': 'Meat Loaf',\n",
       "  'song': \"I'd Do Anything For Love (But I Won't Do That)\"},\n",
       " {'artist': 'Whitney Houston',\n",
       "  'song': 'I Will Always Love You (Film Version)'},\n",
       " {'artist': 'Aerosmith', 'song': \"I Don't Want to Miss a Thing\"},\n",
       " {'artist': 'The Roots & Tariq Trotter',\n",
       "  'song': 'You Got Me (feat. Erykah Badu & Eve)'},\n",
       " {'artist': 'Monica', 'song': 'Angel of Mine (Radio Mix)'},\n",
       " {'artist': 'Mazzy Star, Hope Sandoval & David Roback',\n",
       "  'song': 'Fade Into You'},\n",
       " {'artist': 'Weezer', 'song': 'Buddy Holly'},\n",
       " {'artist': 'Pulp', 'song': 'Something Changed'},\n",
       " {'artist': 'Michael Jackson', 'song': 'You Are Not Alone (Single Version)'},\n",
       " {'artist': 'Green Day', 'song': '2000 Light Years Away'},\n",
       " {'artist': 'Björk', 'song': 'Possibly Maybe'},\n",
       " {'artist': 'Mariah Carey', 'song': 'Emotions'},\n",
       " {'artist': 'R.E.M.', 'song': 'At My Most Beautiful'},\n",
       " {'artist': 'Janet Jackson', 'song': \"That's the Way Love Goes\"},\n",
       " {'artist': 'Pretenders', 'song': \"I'll Stand By You\"},\n",
       " {'artist': 'Mariah Carey', 'song': 'Vision of Love'},\n",
       " {'artist': 'Seal', 'song': 'Kiss from a Rose'},\n",
       " {'artist': 'The Cure', 'song': \"Friday I'm In Love\"},\n",
       " {'artist': 'Wilson Phillips', 'song': 'Hold On'},\n",
       " {'artist': 'The Wannadies', 'song': 'You & Me Song'},\n",
       " {'artist': \"D'Angelo\", 'song': 'Untitled (How Does It Feel) [Edit]'},\n",
       " {'artist': 'Foo Fighters', 'song': 'Everlong'}]"
      ]
     },
     "execution_count": 133,
     "metadata": {
      "tags": []
     },
     "output_type": "execute_result"
    }
   ],
   "source": [
    "l"
   ]
  },
  {
   "cell_type": "code",
   "execution_count": null,
   "metadata": {
    "colab": {},
    "colab_type": "code",
    "id": "tQJN13Y2zB2u"
   },
   "outputs": [],
   "source": [
    "#Write list as Json file\n",
    "with open(\"Love100++.json\", \"w\") as read_file:\n",
    "    json.dump(l, read_file)"
   ]
  }
 ],
 "metadata": {
  "celltoolbar": "Raw Cell Format",
  "colab": {
   "collapsed_sections": [],
   "name": "AppleMusicScraper.ipynb",
   "provenance": []
  },
  "kernelspec": {
   "display_name": "Python 3",
   "language": "python",
   "name": "python3"
  },
  "language_info": {
   "codemirror_mode": {
    "name": "ipython",
    "version": 3
   },
   "file_extension": ".py",
   "mimetype": "text/x-python",
   "name": "python",
   "nbconvert_exporter": "python",
   "pygments_lexer": "ipython3",
   "version": "3.6.10"
  }
 },
 "nbformat": 4,
 "nbformat_minor": 1
}
